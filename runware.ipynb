{
 "cells": [
  {
   "cell_type": "code",
   "execution_count": 9,
   "id": "476f9d26",
   "metadata": {},
   "outputs": [],
   "source": [
    "# --- Configuration ---\n",
    "# IMPORTANT: Replace with your actual Runware API key\n",
    "API_KEY = \"vHAHAHAHAHA\"\n"
   ]
  },
  {
   "cell_type": "code",
   "execution_count": 8,
   "id": "1993520f",
   "metadata": {},
   "outputs": [
    {
     "name": "stdout",
     "output_type": "stream",
     "text": [
      "Connecting to Runware...\n",
      "Successfully connected.\n",
      "Sending image inference request...\n",
      "Received 1 image(s).\n",
      "Displaying the generated image:\n"
     ]
    },
    {
     "data": {
      "text/plain": [
       "IImage(taskType='imageInference', imageUUID='e0740cbc-b4b1-48a1-9a4e-71c3ee24b475', taskUUID='e0e51081-980d-4db6-b476-12a2b0e86622', seed=4566214484482056970, inputImageUUID=None, imageURL='https://im.runware.ai/image/ws/2/ii/e0740cbc-b4b1-48a1-9a4e-71c3ee24b475.jpg', imageBase64Data=None, imageDataURI=None, NSFWContent=None, cost=None)"
      ]
     },
     "metadata": {},
     "output_type": "display_data"
    },
    {
     "name": "stdout",
     "output_type": "stream",
     "text": [
      "\n",
      "Operation complete. The Runware library will handle connection cleanup automatically.\n"
     ]
    }
   ],
   "source": [
    "# --- Imports ---\n",
    "from runware import Runware\n",
    "from runware.types import IImageInference\n",
    "from IPython.display import display\n",
    "\n",
    "# --- Main Logic ---\n",
    "\n",
    "# 1. Instantiate the Runware client\n",
    "runware = Runware(api_key=API_KEY)\n",
    "\n",
    "# 2. Establish the connection\n",
    "print(\"Connecting to Runware...\")\n",
    "await runware.connect()\n",
    "print(\"Successfully connected.\")\n",
    "\n",
    "# 3. Define your image generation request\n",
    "print(\"Sending image inference request...\")\n",
    "request = IImageInference(\n",
    "    positivePrompt=\"A bustling city street at night\",\n",
    "    model=\"runware:100@1\",\n",
    "    width=512,\n",
    "    height=512\n",
    ")\n",
    "\n",
    "# 4. Perform the operation and get the result\n",
    "# Using the method name from your original code\n",
    "images = await runware.imageInference(requestImage=request)\n",
    "print(f\"Received {len(images)} image(s).\")\n",
    "\n",
    "# 5. Display the result\n",
    "if images:\n",
    "    print(\"Displaying the generated image:\")\n",
    "    display(images[0])\n",
    "else:\n",
    "    print(\"No images were returned.\")\n",
    "\n",
    "# 6. No disconnect is needed!\n",
    "print(\"\\nOperation complete. The Runware library will handle connection cleanup automatically.\")"
   ]
  },
  {
   "cell_type": "code",
   "execution_count": null,
   "id": "e049c14a",
   "metadata": {},
   "outputs": [],
   "source": []
  }
 ],
 "metadata": {
  "kernelspec": {
   "display_name": "Python 3",
   "language": "python",
   "name": "python3"
  },
  "language_info": {
   "codemirror_mode": {
    "name": "ipython",
    "version": 3
   },
   "file_extension": ".py",
   "mimetype": "text/x-python",
   "name": "python",
   "nbconvert_exporter": "python",
   "pygments_lexer": "ipython3",
   "version": "3.10.11"
  }
 },
 "nbformat": 4,
 "nbformat_minor": 5
}
